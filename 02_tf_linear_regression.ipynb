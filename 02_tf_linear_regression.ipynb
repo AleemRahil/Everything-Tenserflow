{
  "cells": [
    {
      "cell_type": "markdown",
      "metadata": {
        "id": "view-in-github",
        "colab_type": "text"
      },
      "source": [
        "<a href=\"https://colab.research.google.com/github/AleemRahil/Everything-Tenserflow/blob/main/02_tf_linear_regression.ipynb\" target=\"_parent\"><img src=\"https://colab.research.google.com/assets/colab-badge.svg\" alt=\"Open In Colab\"/></a>"
      ]
    },
    {
      "cell_type": "markdown",
      "metadata": {
        "id": "MipYKxXfFMuW"
      },
      "source": [
        "## Tensorflow2: Linear Regression\n",
        "\n",
        "### This notebook is a TensorFlow port of the PyTorch notebook: https://jovian.ml/aakashns/02-linear-regression\n",
        "\n",
        "Despite the structural differences in Tensorflow and PyTorch, I have tried to port the torch notebooks to tensorflow, which helps in learning both frameworks along with the course [PyTorch: Zero to GANs](https://jovian.ml/aakashns/01-pytorch-basics) by Aakash\n",
        "\n",
        "#### Part 2 of \"Tensorflow: Zero to GANs\"\n",
        "\n",
        "1. [Tensorflow Basics: Tensors & Gradients](https://jovian.ml/kartik.godawat/01-tensorflow-basics)\n",
        "2. [Linear Regression & Gradient Descent](https://jovian.ml/kartik.godawat/02-tf-linear-regression)\n",
        "3. [Image Classfication using Logistic Regression](https://jovian.ml/kartik.godawat/03-tf-logistic-regression)\n",
        "4. [Training Deep Neural Networks on a GPU](https://jovian.ml/kartik.godawat/04-tf-feedforward-nn)\n",
        "\n",
        "\n",
        "Continuing where the [previous tutorial](https:|//jovian.ml/kartik.godawat/01-tensorflow-basics) left off, we'll discuss one of the foundational  algorithms of machine learning in this post: *Linear regression*. We'll create a model that predicts crop yields for apples and oranges (*target variables*) by looking at the average temperature, rainfall and humidity (*input variables or features*) in a region. Here's the training data:\n",
        "\n",
        "![linear-regression-training-data](https://i.imgur.com/6Ujttb4.png)\n",
        "\n",
        "In a linear regression model, each target variable is estimated to be a weighted sum of the input variables, offset by some constant, known as a bias :\n",
        "\n",
        "```\n",
        "yield_apple  = w11 * temp + w12 * rainfall + w13 * humidity + b1\n",
        "yield_orange = w21 * temp + w22 * rainfall + w23 * humidity + b2\n",
        "```\n",
        "\n",
        "Visually, it means that the yield of apples is a linear or planar function of temperature, rainfall and humidity:\n",
        "\n",
        "![linear-regression-graph](https://i.imgur.com/4DJ9f8X.png)\n",
        "\n",
        "The *learning* part of linear regression is to figure out a set of weights `w11, w12,... w23, b1 & b2` by looking at the training data, to make accurate predictions for new data (i.e. to predict the yields for apples and oranges in a new region using the average temperature, rainfall and humidity). This is done by adjusting the weights slightly many times to make better predictions, using an optimization technique called *gradient descent*."
      ]
    },
    {
      "cell_type": "code",
      "source": [],
      "metadata": {
        "id": "2cWd9nF5FSde"
      },
      "execution_count": null,
      "outputs": []
    },
    {
      "cell_type": "markdown",
      "metadata": {
        "id": "tptzhrIlFMuZ"
      },
      "source": [
        "## System Setup"
      ]
    },
    {
      "cell_type": "markdown",
      "metadata": {
        "id": "9tZIzsKjFMuZ"
      },
      "source": [
        "We begin by importing Numpy and PyTorch:"
      ]
    },
    {
      "cell_type": "markdown",
      "metadata": {
        "id": "aJJDitSPFMua"
      },
      "source": [
        "## Training data\n",
        "\n",
        "The training data can be represented using 2 matrices: `inputs` and `targets`, each with one row per observation, and one column per variable."
      ]
    },
    {
      "cell_type": "code",
      "execution_count": null,
      "metadata": {
        "id": "5bOR-UxgFMua"
      },
      "outputs": [],
      "source": [
        "import numpy as np\n",
        "import tensorflow as tf"
      ]
    },
    {
      "cell_type": "code",
      "execution_count": null,
      "metadata": {
        "id": "DPytrMspFMub"
      },
      "outputs": [],
      "source": [
        "# Input (temp, rainfall, humidity)\n",
        "inputs = np.array([[73, 67, 43],\n",
        "                   [91, 88, 64],\n",
        "                   [87, 134, 58],\n",
        "                   [102, 43, 37],\n",
        "                   [69, 96, 70]], dtype='float32')"
      ]
    },
    {
      "cell_type": "code",
      "execution_count": null,
      "metadata": {
        "id": "tyD4O409FMub"
      },
      "outputs": [],
      "source": [
        "# Targets (apples, oranges)\n",
        "targets = np.array([[56, 70],\n",
        "                    [81, 101],\n",
        "                    [119, 133],\n",
        "                    [22, 37],\n",
        "                    [103, 119]], dtype='float32')"
      ]
    },
    {
      "cell_type": "markdown",
      "metadata": {
        "id": "Z3O-KA63FMuc"
      },
      "source": [
        "We've separated the input and target variables, because we'll operate on them separately. Also, we've created numpy arrays, because this is typically how you would work with training data: read some CSV files as numpy arrays, do some processing, and then convert them to TensorFlow tensors as follows:"
      ]
    },
    {
      "cell_type": "code",
      "execution_count": null,
      "metadata": {
        "id": "gHEn6WoSFMuc",
        "outputId": "5ea4610a-70fb-4010-b5d1-2ce671fddd99"
      },
      "outputs": [
        {
          "name": "stdout",
          "output_type": "stream",
          "text": [
            "tf.Tensor(\n",
            "[[ 73.  67.  43.]\n",
            " [ 91.  88.  64.]\n",
            " [ 87. 134.  58.]\n",
            " [102.  43.  37.]\n",
            " [ 69.  96.  70.]], shape=(5, 3), dtype=float32)\n",
            "tf.Tensor(\n",
            "[[ 56.  70.]\n",
            " [ 81. 101.]\n",
            " [119. 133.]\n",
            " [ 22.  37.]\n",
            " [103. 119.]], shape=(5, 2), dtype=float32)\n"
          ]
        }
      ],
      "source": [
        "inputs = tf.convert_to_tensor(inputs)\n",
        "targets = tf.convert_to_tensor(targets)\n",
        "print(inputs)\n",
        "print(targets)"
      ]
    },
    {
      "cell_type": "markdown",
      "metadata": {
        "id": "FWLGUV54FMuc"
      },
      "source": [
        "## Linear regression model from scratch\n",
        "\n",
        "The weights and biases (`w11, w12,... w23, b1 & b2`) can also be represented as matrices, initialized as random values. The first row of `w` and the first element of `b` are used to predict the first target variable i.e. yield of apples, and similarly the second for oranges."
      ]
    },
    {
      "cell_type": "code",
      "execution_count": null,
      "metadata": {
        "id": "rtLAuAsxFMud",
        "outputId": "2604be84-9af8-42e0-ec92-b64a3bbee981"
      },
      "outputs": [
        {
          "name": "stdout",
          "output_type": "stream",
          "text": [
            "<tf.Variable 'Variable:0' shape=(2, 3) dtype=float32, numpy=\n",
            "array([[-0.4917677 , -1.2063944 ,  0.3641779 ],\n",
            "       [-0.8602699 , -0.9507346 , -0.33335298]], dtype=float32)>\n",
            "<tf.Variable 'Variable:0' shape=(2,) dtype=float32, numpy=array([-0.82898927, -0.83526826], dtype=float32)>\n"
          ]
        }
      ],
      "source": [
        "w = tf.Variable(tf.random.normal([2, 3]), trainable=True)\n",
        "b = tf.Variable(tf.random.normal([2]))\n",
        "print(w)\n",
        "print(b)"
      ]
    },
    {
      "cell_type": "markdown",
      "metadata": {
        "id": "f7gbtqm9FMud"
      },
      "source": [
        "`tf.random.normal` creates a tensor with the given shape, with elements picked randomly from a [normal distribution](https://en.wikipedia.org/wiki/Normal_distribution) with mean 0 and standard deviation 1.\n",
        "\n",
        "Our *model* is simply a function that performs a matrix multiplication of the `inputs` and the weights `w` (transposed) and adds the bias `b` (replicated for each observation).\n",
        "\n",
        "![matrix-mult](https://i.imgur.com/WGXLFvA.png)\n",
        "\n",
        "We can define the model as follows:"
      ]
    },
    {
      "cell_type": "code",
      "execution_count": null,
      "metadata": {
        "id": "AaK-3pTLFMud"
      },
      "outputs": [],
      "source": [
        "def model(x):\n",
        "    return x @ tf.transpose(w) + b"
      ]
    },
    {
      "cell_type": "markdown",
      "metadata": {
        "id": "tI3NglETFMud"
      },
      "source": [
        "`@` represents matrix multiplication, and the `tf.transpose(x)` method returns the transpose of a tensor `x`.\n",
        "\n",
        "The matrix obtained by passing the input data into the model is a set of predictions for the target variables."
      ]
    },
    {
      "cell_type": "code",
      "execution_count": null,
      "metadata": {
        "id": "8F8ptkU6FMud",
        "outputId": "94012ca5-0d86-44e2-dbed-83af01c09e2c"
      },
      "outputs": [
        {
          "name": "stdout",
          "output_type": "stream",
          "text": [
            "tf.Tensor(\n",
            "[[-101.89681 -141.66837]\n",
            " [-128.43518 -184.11906]\n",
            " [-184.14732 -222.41165]\n",
            " [ -89.38967 -141.79845]\n",
            " [-125.08237 -174.79913]], shape=(5, 2), dtype=float32)\n"
          ]
        }
      ],
      "source": [
        "# Generate predictions\n",
        "preds = model(inputs)\n",
        "print(preds)"
      ]
    },
    {
      "cell_type": "markdown",
      "metadata": {
        "id": "ZtHiREg4FMud"
      },
      "source": [
        "Let's compare the predictions of our model with the actual targets."
      ]
    },
    {
      "cell_type": "code",
      "execution_count": null,
      "metadata": {
        "id": "uQNESTqNFMue",
        "outputId": "56981bb0-aaa7-4627-9010-24563fb2b211"
      },
      "outputs": [
        {
          "name": "stdout",
          "output_type": "stream",
          "text": [
            "tf.Tensor(\n",
            "[[ 56.  70.]\n",
            " [ 81. 101.]\n",
            " [119. 133.]\n",
            " [ 22.  37.]\n",
            " [103. 119.]], shape=(5, 2), dtype=float32)\n"
          ]
        }
      ],
      "source": [
        "# Compare with targets\n",
        "print(targets)"
      ]
    },
    {
      "cell_type": "markdown",
      "metadata": {
        "id": "NqPfH-kOFMue"
      },
      "source": [
        "You can see that there's a huge difference between the predictions of our model, and the actual values of the target variables. Obviously, this is because we've initialized our model with random weights and biases, and we can't expect it to *just work*."
      ]
    },
    {
      "cell_type": "markdown",
      "metadata": {
        "id": "FiNZxo7LFMue"
      },
      "source": [
        "## Loss function\n",
        "\n",
        "Before we improve our model, we need a way to evaluate how well our model is performing. We can compare the model's predictions with the actual targets, using the following method:\n",
        "\n",
        "* Calculate the difference between the two matrices (`preds` and `targets`).\n",
        "* Square all elements of the difference matrix to remove negative values.\n",
        "* Calculate the average of the elements in the resulting matrix.\n",
        "\n",
        "The result is a single number, known as the **mean squared error** (MSE)."
      ]
    },
    {
      "cell_type": "code",
      "execution_count": null,
      "metadata": {
        "id": "q3yNgzoOFMue"
      },
      "outputs": [],
      "source": [
        "# MSE loss\n",
        "def mse(t1, t2):\n",
        "    diff = t1 - t2\n",
        "    return tf.math.reduce_sum(diff * diff) / tf.size(diff, out_type=tf.float32)"
      ]
    },
    {
      "cell_type": "markdown",
      "metadata": {
        "id": "00jmIxXuFMue"
      },
      "source": [
        "`tf.math.reduce_sum` returns the sum of all the elements in a tensor, and the `tf.size` method returns the number of elements in a tensor. Note that we need to pass `out_type=tf.float32` to ensure denominator matches the dtype of numerator Let's compute the mean squared error for the current predictions of our model."
      ]
    },
    {
      "cell_type": "code",
      "execution_count": null,
      "metadata": {
        "id": "aItkPysFFMue",
        "outputId": "97e02ce1-44ab-4816-ffff-7eeb9e0640da"
      },
      "outputs": [
        {
          "name": "stdout",
          "output_type": "stream",
          "text": [
            "tf.Tensor(59582.27, shape=(), dtype=float32)\n"
          ]
        }
      ],
      "source": [
        "# Compute loss\n",
        "loss = mse(preds, targets)\n",
        "print(loss)"
      ]
    },
    {
      "cell_type": "markdown",
      "metadata": {
        "id": "FkAEA2gWFMue"
      },
      "source": [
        "Here’s how we can interpret the result: *On average, each element in the prediction differs from the actual target by about 145 (square root of the loss 20834)*. And that’s pretty bad, considering the numbers we are trying to predict are themselves in the range 50–200. Also, the result is called the *loss*, because it indicates how bad the model is at predicting the target variables. Lower the loss, better the model."
      ]
    },
    {
      "cell_type": "markdown",
      "metadata": {
        "id": "4bebz3bDFMuf"
      },
      "source": [
        "## Compute gradients\n",
        "\n",
        "Computation of gradients in Tensorflow2.x is done by using `tf.GradientTape` to *record* all the operations on a tape, and then calculate the derivative of y wrt x using `tape.gradient(y,x)`. In order for tensorflow to calculate the derivates, loss calculation should be within GradientTape block. Also, since we declared our `w` and `b` as `tf.Variable`, they're automatically watched by gradient tape. In order to track a tensor, we need to watch it by using `tape.watch(var)` before calculating the loss"
      ]
    },
    {
      "cell_type": "code",
      "execution_count": null,
      "metadata": {
        "id": "3-dk6LwgFMuf"
      },
      "outputs": [],
      "source": [
        "with tf.GradientTape(persistent=True) as tp:\n",
        "    preds = model(inputs)\n",
        "    loss = mse(preds, targets)"
      ]
    },
    {
      "cell_type": "code",
      "execution_count": null,
      "metadata": {
        "id": "9fMR_iP6FMuf",
        "outputId": "a68a8e59-1cb1-44cb-db28-88fb57eaf48b"
      },
      "outputs": [
        {
          "name": "stdout",
          "output_type": "stream",
          "text": [
            "<tf.Variable 'Variable:0' shape=(2, 3) dtype=float32, numpy=\n",
            "array([[-0.4917677 , -1.2063944 ,  0.3641779 ],\n",
            "       [-0.8602699 , -0.9507346 , -0.33335298]], dtype=float32)>\n",
            "tf.Tensor(\n",
            "[[-16811.664 -19263.357 -11572.629]\n",
            " [-22165.605 -24558.094 -15028.943]], shape=(2, 3), dtype=float32)\n"
          ]
        }
      ],
      "source": [
        "print(w)\n",
        "print(tp.gradient(loss, w))"
      ]
    },
    {
      "cell_type": "markdown",
      "metadata": {
        "id": "705aj-wOFMuf"
      },
      "source": [
        "The loss is a [quadratic function](https://en.wikipedia.org/wiki/Quadratic_function) of our weights and biases, and our objective is to find the set of weights where the loss is the lowest. If we plot a graph of the loss w.r.t any individual weight or bias element, it will look like the figure shown below. A key insight from calculus is that the gradient indicates the rate of change of the loss, or the [slope](https://en.wikipedia.org/wiki/Slope) of the loss function w.r.t. the weights and biases.\n",
        "\n",
        "If a gradient element is **positive**:\n",
        "* **increasing** the element's value slightly will **increase** the loss.\n",
        "* **decreasing** the element's value slightly will **decrease** the loss\n",
        "\n",
        "![postive-gradient](https://i.imgur.com/hFYoVgU.png)\n",
        "\n",
        "If a gradient element is **negative**:\n",
        "* **increasing** the element's value slightly will **decrease** the loss.\n",
        "* **decreasing** the element's value slightly will **increase** the loss.\n",
        "\n",
        "![negative=gradient](https://i.imgur.com/w3Wii7C.png)\n",
        "\n",
        "The increase or decrease in loss by changing a weight element is proportional to the value of the gradient of the loss w.r.t. that element. This forms the basis for the optimization algorithm that we'll use to improve our model."
      ]
    },
    {
      "cell_type": "markdown",
      "metadata": {
        "id": "pBDaQqMPFMuf"
      },
      "source": [
        "## Adjust weights and biases using gradient descent\n",
        "\n",
        "We'll reduce the loss and improve our model using the gradient descent optimization algorithm, which has the following steps:\n",
        "\n",
        "1. Generate predictions\n",
        "\n",
        "2. Calculate the loss\n",
        "\n",
        "3. Compute gradients w.r.t the weights and biases\n",
        "\n",
        "4. Adjust the weights by subtracting a small quantity proportional to the gradient\n",
        "\n",
        "Let's implement the above step by step."
      ]
    },
    {
      "cell_type": "code",
      "execution_count": null,
      "metadata": {
        "id": "txpjBoGxFMuf",
        "outputId": "7841e903-48c5-4b94-ad78-7bf1c8ec1bf1"
      },
      "outputs": [
        {
          "name": "stdout",
          "output_type": "stream",
          "text": [
            "tf.Tensor(59582.27, shape=(), dtype=float32)\n"
          ]
        }
      ],
      "source": [
        "# Generate predictions and Calculate loss\n",
        "with tf.GradientTape(persistent=True) as tape:\n",
        "    preds = model(inputs)\n",
        "    loss = mse(preds, targets)\n",
        "# Compute gradient w.r.t the weights and biases\n",
        "w_grad = tape.gradient(loss,w)\n",
        "b_grad = tape.gradient(loss,b)\n",
        "# Adjust the weights\n",
        "w.assign(w - w_grad * 1e-5)\n",
        "b.assign(b - b_grad * 1e-5)\n",
        "print(loss)"
      ]
    },
    {
      "cell_type": "markdown",
      "metadata": {
        "id": "k2tPgMXGFMug"
      },
      "source": [
        "A few things to note above:\n",
        "\n",
        "- This implementation is slightly different than PyTorch's no_grad implementation\n",
        "\n",
        "- We multiply the gradients with a really small number (10^-5 in this case), to ensure that we don't modify the weights by a really large amount, since we only want to take a small step in the downhill direction of the gradient. This number is called the learning rate of the algorithm.\n",
        "\n",
        "- Gradient reset to zero isn't needed here in contrast to PyTorch implementation"
      ]
    },
    {
      "cell_type": "markdown",
      "metadata": {
        "id": "NzxbpnWmFMug"
      },
      "source": [
        "Let's take a look at the new weights and biases."
      ]
    },
    {
      "cell_type": "code",
      "execution_count": null,
      "metadata": {
        "id": "2FC6YhNHFMug",
        "outputId": "5baac49a-a9d0-4831-95a2-290e9ac7fe7d"
      },
      "outputs": [
        {
          "name": "stdout",
          "output_type": "stream",
          "text": [
            "<tf.Variable 'Variable:0' shape=(2, 3) dtype=float32, numpy=\n",
            "array([[-0.32365108, -1.0137608 ,  0.4799042 ],\n",
            "       [-0.6386138 , -0.7051537 , -0.18306355]], dtype=float32)>\n",
            "<tf.Variable 'Variable:0' shape=(2,) dtype=float32, numpy=array([-0.8269694 , -0.83261865], dtype=float32)>\n"
          ]
        }
      ],
      "source": [
        "print(w)\n",
        "print(b)"
      ]
    },
    {
      "cell_type": "markdown",
      "metadata": {
        "id": "Z4Q1VbyrFMuh"
      },
      "source": [
        "With the new weights and biases, the model should have lower loss.\n"
      ]
    },
    {
      "cell_type": "code",
      "execution_count": null,
      "metadata": {
        "id": "Zfj9nlP3FMuh",
        "outputId": "41ead52a-41c6-4e51-9c5f-bd39070617fa"
      },
      "outputs": [
        {
          "name": "stdout",
          "output_type": "stream",
          "text": [
            "tf.Tensor(40388.848, shape=(), dtype=float32)\n"
          ]
        }
      ],
      "source": [
        "preds = model(inputs)\n",
        "loss = mse(preds, targets)\n",
        "print(loss)"
      ]
    },
    {
      "cell_type": "markdown",
      "metadata": {
        "id": "ll6GvwEPFMuh"
      },
      "source": [
        "We have already achieved a significant reduction in the loss, simply by adjusting the weights and biases slightly using gradient descent."
      ]
    },
    {
      "cell_type": "markdown",
      "metadata": {
        "id": "K4O6eP6EFMuh"
      },
      "source": [
        "## Train for multiple epochs\n",
        "\n",
        "To reduce the loss further, we can repeat the process of adjusting the weights and biases using the gradients multiple times. Each iteration is called an epoch. Let's train the model for 100 epochs."
      ]
    },
    {
      "cell_type": "code",
      "execution_count": null,
      "metadata": {
        "id": "g1W2vsewFMuh"
      },
      "outputs": [],
      "source": [
        "# Train for 100 epochs\n",
        "tape = None\n",
        "for i in range(100):\n",
        "    with tf.GradientTape(persistent=True) as tape:\n",
        "        preds = model(inputs)\n",
        "        loss = mse(preds, targets)\n",
        "    w.assign(w - tape.gradient(loss,w) * 1e-5)\n",
        "    b.assign(b - tape.gradient(loss,b) * 1e-5)\n",
        "\n",
        "#     print(w,b)"
      ]
    },
    {
      "cell_type": "markdown",
      "metadata": {
        "id": "eN3iRKgrFMuh"
      },
      "source": [
        "Once again, let's verify that the loss is now lower:"
      ]
    },
    {
      "cell_type": "code",
      "execution_count": null,
      "metadata": {
        "id": "n7Dd4_i3FMuh",
        "outputId": "88817563-ac7a-4d03-e71c-09dbac83fe19"
      },
      "outputs": [
        {
          "name": "stdout",
          "output_type": "stream",
          "text": [
            "tf.Tensor(219.09676, shape=(), dtype=float32)\n"
          ]
        }
      ],
      "source": [
        "preds = model(inputs)\n",
        "loss = mse(preds, targets)\n",
        "print(loss)"
      ]
    },
    {
      "cell_type": "markdown",
      "metadata": {
        "id": "MzAu2QiUFMum"
      },
      "source": [
        "As you can see, the loss is now much lower than what we started out with. Let's look at the model's predictions and compare them with the targets."
      ]
    },
    {
      "cell_type": "code",
      "execution_count": null,
      "metadata": {
        "id": "oAKG-X5EFMum",
        "outputId": "46290276-65ed-4036-ad5e-d5f99e05b9d8"
      },
      "outputs": [
        {
          "data": {
            "text/plain": [
              "<tf.Tensor: shape=(5, 2), dtype=float32, numpy=\n",
              "array([[ 62.05404 ,  73.82271 ],\n",
              "       [ 89.286644, 100.95453 ],\n",
              "       [ 94.72926 , 126.660446],\n",
              "       [ 50.675346,  58.026142],\n",
              "       [ 96.80508 , 107.20921 ]], dtype=float32)>"
            ]
          },
          "execution_count": 18,
          "metadata": {},
          "output_type": "execute_result"
        }
      ],
      "source": [
        "preds"
      ]
    },
    {
      "cell_type": "code",
      "execution_count": null,
      "metadata": {
        "id": "tHZG7h5IFMum",
        "outputId": "a72f510a-f462-42ea-9fd6-ae09e4cc2082"
      },
      "outputs": [
        {
          "data": {
            "text/plain": [
              "<tf.Tensor: shape=(5, 2), dtype=float32, numpy=\n",
              "array([[ 56.,  70.],\n",
              "       [ 81., 101.],\n",
              "       [119., 133.],\n",
              "       [ 22.,  37.],\n",
              "       [103., 119.]], dtype=float32)>"
            ]
          },
          "execution_count": 19,
          "metadata": {},
          "output_type": "execute_result"
        }
      ],
      "source": [
        "targets"
      ]
    },
    {
      "cell_type": "markdown",
      "metadata": {
        "id": "5olJUehSFMum"
      },
      "source": [
        "The prediction are now quite close to the target variables, and we can get even better results by training for a few more epochs.\n"
      ]
    },
    {
      "cell_type": "markdown",
      "metadata": {
        "id": "q7R0gakFFMum"
      },
      "source": [
        "## Linear regression using Tensorflow + Keras built-ins\n",
        "\n",
        "The model and training process above were implemented using basic matrix operations. But since this such a common pattern , Tensorflow2 has several built-in functions and classes to make it easy to create and train models.\n",
        "\n",
        "*Keras* is a higher level libary available within tensorflow and can be imported using using `tf.keras`"
      ]
    },
    {
      "cell_type": "markdown",
      "metadata": {
        "id": "F9ESlQKbFMun"
      },
      "source": [
        "As before, we represent the inputs and targets and matrices."
      ]
    },
    {
      "cell_type": "code",
      "execution_count": null,
      "metadata": {
        "id": "-OPYyNN8FMun"
      },
      "outputs": [],
      "source": [
        "# Input (temp, rainfall, humidity)\n",
        "inputs = np.array([[73, 67, 43], [91, 88, 64], [87, 134, 58],\n",
        "                   [102, 43, 37], [69, 96, 70], [73, 67, 43],\n",
        "                   [91, 88, 64], [87, 134, 58], [102, 43, 37],\n",
        "                   [69, 96, 70], [73, 67, 43], [91, 88, 64],\n",
        "                   [87, 134, 58], [102, 43, 37], [69, 96, 70]],\n",
        "                  dtype='float32')\n",
        "\n",
        "# Targets (apples, oranges)\n",
        "targets = np.array([[56, 70], [81, 101], [119, 133],\n",
        "                    [22, 37], [103, 119], [56, 70],\n",
        "                    [81, 101], [119, 133], [22, 37],\n",
        "                    [103, 119], [56, 70], [81, 101],\n",
        "                    [119, 133], [22, 37], [103, 119]],\n",
        "                   dtype='float32')\n",
        "inputs = tf.convert_to_tensor(inputs)\n",
        "targets = tf.convert_to_tensor(targets)"
      ]
    },
    {
      "cell_type": "markdown",
      "metadata": {
        "id": "VsAwYnlKFMun"
      },
      "source": [
        "We are using 15 training examples this time, to illustrate how to work with large datasets in small batches."
      ]
    },
    {
      "cell_type": "markdown",
      "metadata": {
        "id": "3Q1ZpftmFMun"
      },
      "source": [
        "## Dataset\n",
        "\n",
        "We'll use `tf.data` api , which allows access to rows from `inputs` and `targets` as tuples, and provides standard APIs for working with many different types of datasets in tensorflow."
      ]
    },
    {
      "cell_type": "code",
      "execution_count": null,
      "metadata": {
        "id": "LfSubWc-FMun"
      },
      "outputs": [],
      "source": [
        "dataset = tf.data.Dataset.from_tensor_slices((inputs,targets))"
      ]
    },
    {
      "cell_type": "code",
      "execution_count": null,
      "metadata": {
        "id": "7M4KM-OnFMun",
        "outputId": "3436dced-4ecd-4b12-abf6-92ba6f78ee3c"
      },
      "outputs": [
        {
          "data": {
            "text/plain": [
              "<TensorSliceDataset shapes: ((3,), (2,)), types: (tf.float32, tf.float32)>"
            ]
          },
          "execution_count": 22,
          "metadata": {},
          "output_type": "execute_result"
        }
      ],
      "source": [
        "dataset"
      ]
    },
    {
      "cell_type": "markdown",
      "metadata": {
        "id": "M5pHL4ZNFMun"
      },
      "source": [
        "To split the data into batches of a predefined size while training, we use `dataset.batch()`"
      ]
    },
    {
      "cell_type": "code",
      "execution_count": null,
      "metadata": {
        "id": "9y4mI_eRFMun"
      },
      "outputs": [],
      "source": [
        "BATCH_SIZE = 5\n",
        "dataset = dataset.batch(BATCH_SIZE)"
      ]
    },
    {
      "cell_type": "code",
      "execution_count": null,
      "metadata": {
        "id": "AZGwMCw1FMun",
        "outputId": "a76531fc-7782-444a-e29c-cc27b873cffe"
      },
      "outputs": [
        {
          "data": {
            "text/plain": [
              "<BatchDataset shapes: ((None, 3), (None, 2)), types: (tf.float32, tf.float32)>"
            ]
          },
          "execution_count": 24,
          "metadata": {},
          "output_type": "execute_result"
        }
      ],
      "source": [
        "dataset"
      ]
    },
    {
      "cell_type": "markdown",
      "metadata": {
        "id": "2q14I2d8FMuo"
      },
      "source": [
        "You can see above that dataset has now been converted to `BatchDataset`. The data now can be accessed using simple for loop like this:"
      ]
    },
    {
      "cell_type": "code",
      "execution_count": null,
      "metadata": {
        "id": "5ULSkj6sFMuo",
        "outputId": "5877c0fa-63fa-4dc5-b55e-02013babe483"
      },
      "outputs": [
        {
          "name": "stdout",
          "output_type": "stream",
          "text": [
            "tf.Tensor(\n",
            "[[ 73.  67.  43.]\n",
            " [ 91.  88.  64.]\n",
            " [ 87. 134.  58.]\n",
            " [102.  43.  37.]\n",
            " [ 69.  96.  70.]], shape=(5, 3), dtype=float32)\n",
            "tf.Tensor(\n",
            "[[ 56.  70.]\n",
            " [ 81. 101.]\n",
            " [119. 133.]\n",
            " [ 22.  37.]\n",
            " [103. 119.]], shape=(5, 2), dtype=float32)\n",
            "tf.Tensor(\n",
            "[[ 73.  67.  43.]\n",
            " [ 91.  88.  64.]\n",
            " [ 87. 134.  58.]\n",
            " [102.  43.  37.]\n",
            " [ 69.  96.  70.]], shape=(5, 3), dtype=float32)\n",
            "tf.Tensor(\n",
            "[[ 56.  70.]\n",
            " [ 81. 101.]\n",
            " [119. 133.]\n",
            " [ 22.  37.]\n",
            " [103. 119.]], shape=(5, 2), dtype=float32)\n",
            "tf.Tensor(\n",
            "[[ 73.  67.  43.]\n",
            " [ 91.  88.  64.]\n",
            " [ 87. 134.  58.]\n",
            " [102.  43.  37.]\n",
            " [ 69.  96.  70.]], shape=(5, 3), dtype=float32)\n",
            "tf.Tensor(\n",
            "[[ 56.  70.]\n",
            " [ 81. 101.]\n",
            " [119. 133.]\n",
            " [ 22.  37.]\n",
            " [103. 119.]], shape=(5, 2), dtype=float32)\n"
          ]
        }
      ],
      "source": [
        "for x, y in dataset:\n",
        "    print(x)\n",
        "    print(y)"
      ]
    },
    {
      "cell_type": "markdown",
      "metadata": {
        "id": "aWqUVSQEFMuo"
      },
      "source": [
        "In each iteration, the data loader returns one batch of data, with the given batch size.`dataset.shuffl()`, can be called to shuffle the training data before creating batches. Shuffling helps randomize the input to the optimization algorithm, which can lead to faster reduction in the loss."
      ]
    },
    {
      "cell_type": "markdown",
      "metadata": {
        "id": "KsiedUC4FMuo"
      },
      "source": [
        "# Create model\n",
        "Instead of initializing weights and biases manually, we can use `tf.keras` apis to create a model"
      ]
    },
    {
      "cell_type": "code",
      "execution_count": null,
      "metadata": {
        "id": "4NUDB509FMuo"
      },
      "outputs": [],
      "source": [
        "model = tf.keras.models.Sequential([\n",
        "  tf.keras.layers.Dense(2, input_shape=(3,))\n",
        "])\n",
        ""
      ]
    },
    {
      "cell_type": "markdown",
      "metadata": {
        "id": "FjVEA1IoFMup"
      },
      "source": [
        "To view the weights and biases in a model, we can use `model.weights`"
      ]
    },
    {
      "cell_type": "code",
      "execution_count": null,
      "metadata": {
        "id": "Ai_FDGtcFMup",
        "outputId": "ac029421-71d8-4453-c6e2-de01aa384a1f"
      },
      "outputs": [
        {
          "data": {
            "text/plain": [
              "[<tf.Variable 'dense/kernel:0' shape=(3, 2) dtype=float32, numpy=\n",
              " array([[-0.1928345 , -0.40553868],\n",
              "        [ 0.55817056, -0.108769  ],\n",
              "        [ 0.32542884, -0.8425481 ]], dtype=float32)>,\n",
              " <tf.Variable 'dense/bias:0' shape=(2,) dtype=float32, numpy=array([0., 0.], dtype=float32)>]"
            ]
          },
          "execution_count": 27,
          "metadata": {},
          "output_type": "execute_result"
        }
      ],
      "source": [
        "model.weights"
      ]
    },
    {
      "cell_type": "markdown",
      "metadata": {
        "id": "ngNtS-gMFMup"
      },
      "source": [
        "We can use the model to generate predictions in the exact same way as before:"
      ]
    },
    {
      "cell_type": "code",
      "execution_count": null,
      "metadata": {
        "id": "5_axp01AFMup",
        "outputId": "ce14efa7-0af2-4f4a-e571-42424ee48bb3"
      },
      "outputs": [
        {
          "data": {
            "text/plain": [
              "<tf.Tensor: shape=(15, 2), dtype=float32, numpy=\n",
              "array([[  37.31395 ,  -73.121414],\n",
              "       [  52.398518, -100.39877 ],\n",
              "       [  76.89312 ,  -98.7247  ],\n",
              "       [  16.373081,  -77.21629 ],\n",
              "       [  63.058815,  -97.40236 ],\n",
              "       [  37.31395 ,  -73.121414],\n",
              "       [  52.398518, -100.39877 ],\n",
              "       [  76.89312 ,  -98.7247  ],\n",
              "       [  16.373081,  -77.21629 ],\n",
              "       [  63.058815,  -97.40236 ],\n",
              "       [  37.31395 ,  -73.121414],\n",
              "       [  52.398518, -100.39877 ],\n",
              "       [  76.89312 ,  -98.7247  ],\n",
              "       [  16.373081,  -77.21629 ],\n",
              "       [  63.058815,  -97.40236 ]], dtype=float32)>"
            ]
          },
          "execution_count": 28,
          "metadata": {},
          "output_type": "execute_result"
        }
      ],
      "source": [
        "preds = model(inputs)\n",
        "preds"
      ]
    },
    {
      "cell_type": "markdown",
      "metadata": {
        "id": "_aipTvELFMup"
      },
      "source": [
        "## Loss Function\n",
        "\n",
        "Instead of defining a loss function manually, we can use the built-in loss function `mse_loss`."
      ]
    },
    {
      "cell_type": "code",
      "execution_count": null,
      "metadata": {
        "id": "6bY-qD9tFMup"
      },
      "outputs": [],
      "source": [
        "loss_fn = tf.keras.losses.MeanSquaredError()"
      ]
    },
    {
      "cell_type": "markdown",
      "metadata": {
        "id": "ssHs8g7fFMup"
      },
      "source": [
        "Let's compute the loss for the current predictions of our model."
      ]
    },
    {
      "cell_type": "code",
      "execution_count": null,
      "metadata": {
        "id": "P2tqhQdpFMup",
        "outputId": "2e859965-1414-4eaf-a42e-3a33037ec67a"
      },
      "outputs": [
        {
          "data": {
            "text/plain": [
              "<tf.Tensor: shape=(), dtype=float32, numpy=17918.404>"
            ]
          },
          "execution_count": 30,
          "metadata": {},
          "output_type": "execute_result"
        }
      ],
      "source": [
        "loss = loss_fn(model(inputs),targets)\n",
        "loss"
      ]
    },
    {
      "cell_type": "markdown",
      "metadata": {
        "id": "JkaKj8W9FMuq"
      },
      "source": [
        "## Optimizer\n",
        "\n",
        "Instead of manually manipulating the model's weights & biases using gradients, we can use the optimizer `tf.keras.optimizers.SGD`. SGD stands for `stochastic gradient descent`. It is called `stochastic` because samples are selected in batches (often with random shuffling) instead of as a single group."
      ]
    },
    {
      "cell_type": "code",
      "execution_count": null,
      "metadata": {
        "id": "XSIKEUMNFMuq"
      },
      "outputs": [],
      "source": [
        "opt = tf.keras.optimizers.SGD(learning_rate=1e-5)"
      ]
    },
    {
      "cell_type": "markdown",
      "metadata": {
        "id": "17O-acbrFMuq"
      },
      "source": [
        "## Train the model\n",
        "\n",
        "We are now ready to train the model. We'll follow the exact same process to implement gradient descent:\n",
        "\n",
        "1. Generate predictions\n",
        "\n",
        "2. Calculate the loss\n",
        "\n",
        "3. Compute gradients w.r.t the weights and biases\n",
        "\n",
        "4. Adjust the weights by subtracting a small quantity proportional to the gradient\n",
        "\n",
        "5. Reset the gradients to zero\n",
        "\n",
        "The only change is that we'll work batches of data, instead of processing the entire training data in every iteration. Let's define a utility function `fit` which trains the model for a given number of epochs."
      ]
    },
    {
      "cell_type": "code",
      "execution_count": null,
      "metadata": {
        "id": "kGAP9smsFMuq"
      },
      "outputs": [],
      "source": [
        "def fit(num_epochs, model, loss_fn, opt, train_dataset):\n",
        "    # Repeat for given number of epochs\n",
        "    for epoch in range(num_epochs):\n",
        "        # Train with batches of data\n",
        "        for x, y in train_dataset:\n",
        "            # Compute loss\n",
        "            with tf.GradientTape() as tt:\n",
        "                preds = model(x)\n",
        "                loss = loss_fn(preds, y)\n",
        "            var_list_fn =  model.trainable_weights\n",
        "            # Compute gradients\n",
        "            grads = tt.gradient(loss, var_list_fn)\n",
        "            # Apply gradients\n",
        "            opt.apply_gradients(zip(grads, var_list_fn))\n",
        "        # Print the progress\n",
        "        if (epoch+1) % 10 == 0:\n",
        "            print('Epoch [{}/{}], Loss: {:.4f}'.format(epoch+1, num_epochs, loss))"
      ]
    },
    {
      "cell_type": "markdown",
      "metadata": {
        "id": "FIHMI3YVFMuq"
      },
      "source": [
        "Some things to note above:\n",
        "\n",
        "- We use the`tf.data.Dataset` defined earlier to get batches of data for every iteration.\n",
        "\n",
        "- Instead of updating parameters (weights and biases) manually, we use `opt.apply_gradients` after calculating all the gradients. The list of all variables to update can be fetched from `model.trainable_weights`\n",
        "\n",
        "We've also added a log statement which prints the loss from the last batch of data for every 10th epoch."
      ]
    },
    {
      "cell_type": "markdown",
      "metadata": {
        "id": "d6A5Us08FMur"
      },
      "source": [
        "Let's generate predictions using our model and verify that they're close to our targets."
      ]
    },
    {
      "cell_type": "code",
      "execution_count": null,
      "metadata": {
        "id": "p1K5iTMtFMur",
        "outputId": "f9e73c61-8b75-46b2-cf1c-19c9b997b095"
      },
      "outputs": [
        {
          "name": "stdout",
          "output_type": "stream",
          "text": [
            "Epoch [10/100], Loss: 195.0150\n",
            "Epoch [20/100], Loss: 152.1016\n",
            "Epoch [30/100], Loss: 121.8918\n",
            "Epoch [40/100], Loss: 100.2858\n",
            "Epoch [50/100], Loss: 84.6093\n",
            "Epoch [60/100], Loss: 73.0330\n",
            "Epoch [70/100], Loss: 64.3043\n",
            "Epoch [80/100], Loss: 57.5656\n",
            "Epoch [90/100], Loss: 52.2282\n",
            "Epoch [100/100], Loss: 47.8881\n"
          ]
        }
      ],
      "source": [
        "fit(100, model, loss_fn, opt, dataset)"
      ]
    },
    {
      "cell_type": "code",
      "execution_count": null,
      "metadata": {
        "id": "gPJqAvf-FMur",
        "outputId": "f632cd5d-9ae7-41a0-b54a-b5215d6208be"
      },
      "outputs": [
        {
          "data": {
            "text/plain": [
              "<tf.Tensor: shape=(5, 2), dtype=float32, numpy=\n",
              "array([[ 57.768314,  71.83418 ],\n",
              "       [ 81.152054,  94.82893 ],\n",
              "       [120.12243 , 143.79146 ],\n",
              "       [ 24.440329,  45.17917 ],\n",
              "       [ 98.12515 , 104.213486]], dtype=float32)>"
            ]
          },
          "execution_count": 34,
          "metadata": {},
          "output_type": "execute_result"
        }
      ],
      "source": [
        "model(x)"
      ]
    },
    {
      "cell_type": "code",
      "execution_count": null,
      "metadata": {
        "id": "t_KDoCKcFMus",
        "outputId": "eba0a1be-0be9-43ae-c924-63908ba56ca8"
      },
      "outputs": [
        {
          "data": {
            "text/plain": [
              "<tf.Tensor: shape=(5, 2), dtype=float32, numpy=\n",
              "array([[ 56.,  70.],\n",
              "       [ 81., 101.],\n",
              "       [119., 133.],\n",
              "       [ 22.,  37.],\n",
              "       [103., 119.]], dtype=float32)>"
            ]
          },
          "execution_count": 35,
          "metadata": {},
          "output_type": "execute_result"
        }
      ],
      "source": [
        "y"
      ]
    },
    {
      "cell_type": "markdown",
      "metadata": {
        "id": "95wb6SU3FMus"
      },
      "source": [
        "Indeed, the predictions are quite close to our targets, and now we have a fairly good model to predict crop yields for apples and oranges by looking at the average temperature, rainfall and humidity in a region."
      ]
    },
    {
      "cell_type": "markdown",
      "metadata": {
        "id": "oDrcohPKFMus"
      },
      "source": [
        "## Commit and update the notebook\n",
        "As a final step, we can record a new version of the notebook using the `jovian` library."
      ]
    },
    {
      "cell_type": "code",
      "execution_count": null,
      "metadata": {
        "id": "O0TMaGKhFMus"
      },
      "outputs": [],
      "source": [
        "import jovian"
      ]
    },
    {
      "cell_type": "code",
      "execution_count": null,
      "metadata": {
        "id": "gDNzX9NEFMut",
        "outputId": "ea223bda-7411-4695-813a-4861de40b0a8"
      },
      "outputs": [
        {
          "data": {
            "application/javascript": [
              "window.require && require([\"base/js/namespace\"],function(Jupyter){Jupyter.notebook.save_checkpoint()})"
            ],
            "text/plain": [
              "<IPython.core.display.Javascript object>"
            ]
          },
          "metadata": {},
          "output_type": "display_data"
        },
        {
          "name": "stdout",
          "output_type": "stream",
          "text": [
            "[jovian] Attempting to save notebook..\u001b[0m\n"
          ]
        }
      ],
      "source": [
        "jovian.commit(filename=\"02-tf-linear-regression\", environment=None)"
      ]
    },
    {
      "cell_type": "code",
      "execution_count": null,
      "metadata": {
        "id": "GeIlnyUSFMut"
      },
      "outputs": [],
      "source": []
    }
  ],
  "metadata": {
    "kernelspec": {
      "display_name": "Python 3",
      "language": "python",
      "name": "python3"
    },
    "language_info": {
      "codemirror_mode": {
        "name": "ipython",
        "version": 3
      },
      "file_extension": ".py",
      "mimetype": "text/x-python",
      "name": "python",
      "nbconvert_exporter": "python",
      "pygments_lexer": "ipython3",
      "version": "3.6.9"
    },
    "colab": {
      "provenance": [],
      "include_colab_link": true
    }
  },
  "nbformat": 4,
  "nbformat_minor": 0
}