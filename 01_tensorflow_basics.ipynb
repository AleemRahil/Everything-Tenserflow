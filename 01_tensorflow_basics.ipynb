{
  "cells": [
    {
      "cell_type": "markdown",
      "metadata": {
        "id": "view-in-github",
        "colab_type": "text"
      },
      "source": [
        "<a href=\"https://colab.research.google.com/github/AleemRahil/Everything-Tenserflow/blob/main/01_tensorflow_basics.ipynb\" target=\"_parent\"><img src=\"https://colab.research.google.com/assets/colab-badge.svg\" alt=\"Open In Colab\"/></a>"
      ]
    },
    {
      "cell_type": "markdown",
      "metadata": {
        "id": "k8Q8aL-pEmwL"
      },
      "source": [
        "# Tensorflow2 Zero to GANs\n",
        "\n",
        "### This notebook is a port of https://jovian.ml/aakashns/01-pytorch-basics\n",
        "\n",
        "##### Part one of **Tensorflow: Zero to GANs**\n",
        "\n",
        "1. [Tensorflow Basics: Tensors & Gradients](https://jovian.ml/kartik.godawat/01-tensorflow-basics)\n",
        "2. [Linear Regression & Gradient Descent](https://jovian.ml/kartik.godawat/02-tf-linear-regression)\n",
        "3. [Image Classfication using Logistic Regression](https://jovian.ml/kartik.godawat/03-tf-logistic-regression)\n",
        "4. [Training Deep Neural Networks on a GPU](https://jovian.ml/kartik.godawat/04-tf-feedforward-nn)\n",
        "\n",
        "With eager execution enabled by default in Tensorflow v2, many parallels can now be drawn between torch and tensorflow, enabling developers to learn and utilize both of these powerful frameworks relatively quicker than before.\n",
        "\n",
        "I'll be taking a Tensorflow first approach in the notebooks, drawing parallels from torch wherever possible and also highlighting the differences between the two. It is highly recommended that this notebook be viewed with [PyTorch basics notebook](https://jovian.ml/aakashns/01-pytorch-basics) for clearer understanding"
      ]
    },
    {
      "cell_type": "markdown",
      "metadata": {
        "id": "nbvOxD8GEmwO"
      },
      "source": [
        "### Tensorflow Basics: Tensors & Gradients"
      ]
    },
    {
      "cell_type": "markdown",
      "metadata": {
        "id": "QfC91GI6EmwO"
      },
      "source": [
        "This series attempts to make Tensorflow a bit more approachable for people starting out with deep learning and neural networks. In this notebook, we’ll cover the basic building blocks of Tensorflow models: tensors and gradients."
      ]
    },
    {
      "cell_type": "code",
      "execution_count": null,
      "metadata": {
        "id": "qXkD0cDTEmwP"
      },
      "outputs": [],
      "source": [
        "## System setup - #TODO--system-setup"
      ]
    },
    {
      "cell_type": "markdown",
      "metadata": {
        "id": "4OrrmVvWEmwQ"
      },
      "source": [
        "We begin by importing Tensorflow2:"
      ]
    },
    {
      "cell_type": "code",
      "execution_count": null,
      "metadata": {
        "id": "SmDkWxNzEmwQ"
      },
      "outputs": [],
      "source": [
        "# Uncomment the command below if Tensorflow is not installed\n",
        "# pip install tensorflow\n",
        "# !conda install pytorch cpuonly -c pytorch -y #TODO--conda install"
      ]
    },
    {
      "cell_type": "code",
      "execution_count": null,
      "metadata": {
        "id": "1lYfw6yMEmwQ"
      },
      "outputs": [],
      "source": [
        "import tensorflow as tf # Importing as \"tf\" is convention, like np for numpy, pd for pandas"
      ]
    },
    {
      "cell_type": "markdown",
      "metadata": {
        "id": "xMXe4raeEmwQ"
      },
      "source": [
        "# Tensors"
      ]
    },
    {
      "cell_type": "markdown",
      "metadata": {
        "id": "9vPCGFw5EmwR"
      },
      "source": [
        "At its core, Tensorflow is a library for processing tensors. A tensor is a number, vector, matrix or any n-dimensional array. Let's create a tensor with a single number:\n",
        "\n",
        "In contrast with PyTorch, here a tensor can be defined as multiple types, we will start with one of the types called **`tf.constant`** and use other types as need arises."
      ]
    },
    {
      "cell_type": "code",
      "execution_count": null,
      "metadata": {
        "id": "J-OXGnI7EmwR",
        "outputId": "de65fc4f-d2bb-41f3-e3aa-934303162d8d"
      },
      "outputs": [
        {
          "data": {
            "text/plain": [
              "<tf.Variable 'Variable:0' shape=() dtype=float32, numpy=4.0>"
            ]
          },
          "execution_count": 4,
          "metadata": {},
          "output_type": "execute_result"
        }
      ],
      "source": [
        "t0 = tf.Variable(4.)\n",
        "t0"
      ]
    },
    {
      "cell_type": "code",
      "execution_count": null,
      "metadata": {
        "id": "NJF5GLRXEmwR",
        "outputId": "73194167-9c5a-4fc3-a7ab-0fb9b25dda72"
      },
      "outputs": [
        {
          "data": {
            "text/plain": [
              "<tf.Tensor: shape=(), dtype=float32, numpy=4.0>"
            ]
          },
          "execution_count": 5,
          "metadata": {},
          "output_type": "execute_result"
        }
      ],
      "source": [
        "t1 = tf.constant(4.)\n",
        "t1"
      ]
    },
    {
      "cell_type": "markdown",
      "metadata": {
        "id": "9k1QkNMREmwS"
      },
      "source": [
        "Here, **4.** is a shorthand for **4.0**. It is used to indicate to Python (and Tensorflow) that you want to create a floating point number. We can verify this by checking the dtype attribute of our tensor:\n"
      ]
    },
    {
      "cell_type": "code",
      "execution_count": null,
      "metadata": {
        "id": "8_BL9alnEmwS",
        "outputId": "1fdd74c6-65b5-4773-d14d-26fadf396181"
      },
      "outputs": [
        {
          "data": {
            "text/plain": [
              "tf.float32"
            ]
          },
          "execution_count": 6,
          "metadata": {},
          "output_type": "execute_result"
        }
      ],
      "source": [
        "t1.dtype"
      ]
    },
    {
      "cell_type": "markdown",
      "metadata": {
        "id": "uTh0-pWNEmwS"
      },
      "source": [
        "Let's try creating slightly more complex tensors:\n"
      ]
    },
    {
      "cell_type": "code",
      "execution_count": null,
      "metadata": {
        "id": "RnV2PO1mEmwS",
        "outputId": "803fa621-1939-4be1-b4ed-0de03e79ea8c"
      },
      "outputs": [
        {
          "data": {
            "text/plain": [
              "<tf.Tensor: shape=(4,), dtype=float32, numpy=array([1., 2., 3., 4.], dtype=float32)>"
            ]
          },
          "execution_count": 7,
          "metadata": {},
          "output_type": "execute_result"
        }
      ],
      "source": [
        "t2 = tf.constant([1.,2,3,4])\n",
        "t2"
      ]
    },
    {
      "cell_type": "code",
      "execution_count": null,
      "metadata": {
        "id": "wBQPdpJREmwS",
        "outputId": "8631b19c-cbf3-45fc-e4f0-7156f9e90d0a"
      },
      "outputs": [
        {
          "data": {
            "text/plain": [
              "<tf.Tensor: shape=(3, 2), dtype=float32, numpy=\n",
              "array([[ 5.,  6.],\n",
              "       [ 7.,  8.],\n",
              "       [ 9., 10.]], dtype=float32)>"
            ]
          },
          "execution_count": 8,
          "metadata": {},
          "output_type": "execute_result"
        }
      ],
      "source": [
        "t3 = tf.constant([[5., 6],\n",
        "                   [7, 8],\n",
        "                   [9, 10]])\n",
        "t3"
      ]
    },
    {
      "cell_type": "code",
      "execution_count": null,
      "metadata": {
        "id": "yfvThetiEmwS",
        "outputId": "d5e6af02-aa06-4001-95b1-a708a8417bbd"
      },
      "outputs": [
        {
          "data": {
            "text/plain": [
              "<tf.Tensor: shape=(2, 2, 3), dtype=float32, numpy=\n",
              "array([[[11., 12., 13.],\n",
              "        [13., 14., 15.]],\n",
              "\n",
              "       [[15., 16., 17.],\n",
              "        [17., 18., 19.]]], dtype=float32)>"
            ]
          },
          "execution_count": 9,
          "metadata": {},
          "output_type": "execute_result"
        }
      ],
      "source": [
        "t4 = tf.constant([\n",
        "    [[11, 12, 13],\n",
        "     [13, 14, 15]],\n",
        "    [[15, 16, 17],\n",
        "     [17, 18, 19.]]])\n",
        "t4"
      ]
    },
    {
      "cell_type": "markdown",
      "metadata": {
        "id": "y7Zj6iuoEmwT"
      },
      "source": [
        "Tensors can have any number of dimensions, and different lengths along each dimension. We can inspect the length along each dimension using the **`.shape`** property of a tensor."
      ]
    },
    {
      "cell_type": "code",
      "execution_count": null,
      "metadata": {
        "id": "XX1WY08aEmwT",
        "outputId": "27e2156f-e84a-4533-c675-c556564ee24e"
      },
      "outputs": [
        {
          "name": "stdout",
          "output_type": "stream",
          "text": [
            "tf.Tensor(4.0, shape=(), dtype=float32)\n"
          ]
        },
        {
          "data": {
            "text/plain": [
              "TensorShape([])"
            ]
          },
          "execution_count": 10,
          "metadata": {},
          "output_type": "execute_result"
        }
      ],
      "source": [
        "print(t1)\n",
        "t1.shape"
      ]
    },
    {
      "cell_type": "code",
      "execution_count": null,
      "metadata": {
        "id": "wrUvTMDVEmwT",
        "outputId": "7bb05fb8-1848-49e3-ae6b-7bb69021ffab"
      },
      "outputs": [
        {
          "name": "stdout",
          "output_type": "stream",
          "text": [
            "tf.Tensor([1. 2. 3. 4.], shape=(4,), dtype=float32)\n"
          ]
        },
        {
          "data": {
            "text/plain": [
              "TensorShape([4])"
            ]
          },
          "execution_count": 11,
          "metadata": {},
          "output_type": "execute_result"
        }
      ],
      "source": [
        "print(t2)\n",
        "t2.shape"
      ]
    },
    {
      "cell_type": "code",
      "execution_count": null,
      "metadata": {
        "id": "MckB-vOIEmwT",
        "outputId": "8e3f622c-f371-44c2-968b-3a024581cc2e"
      },
      "outputs": [
        {
          "name": "stdout",
          "output_type": "stream",
          "text": [
            "tf.Tensor(\n",
            "[[ 5.  6.]\n",
            " [ 7.  8.]\n",
            " [ 9. 10.]], shape=(3, 2), dtype=float32)\n"
          ]
        },
        {
          "data": {
            "text/plain": [
              "TensorShape([3, 2])"
            ]
          },
          "execution_count": 12,
          "metadata": {},
          "output_type": "execute_result"
        }
      ],
      "source": [
        "print(t3)\n",
        "t3.shape"
      ]
    },
    {
      "cell_type": "code",
      "execution_count": null,
      "metadata": {
        "id": "LWeksZCpEmwT",
        "outputId": "eaab974b-7da1-4e09-b54e-5795cb1fe6ae"
      },
      "outputs": [
        {
          "name": "stdout",
          "output_type": "stream",
          "text": [
            "tf.Tensor(\n",
            "[[[11. 12. 13.]\n",
            "  [13. 14. 15.]]\n",
            "\n",
            " [[15. 16. 17.]\n",
            "  [17. 18. 19.]]], shape=(2, 2, 3), dtype=float32)\n"
          ]
        },
        {
          "data": {
            "text/plain": [
              "TensorShape([2, 2, 3])"
            ]
          },
          "execution_count": 13,
          "metadata": {},
          "output_type": "execute_result"
        }
      ],
      "source": [
        "print(t4)\n",
        "t4.shape"
      ]
    },
    {
      "cell_type": "markdown",
      "metadata": {
        "id": "ycV5FJkdEmwT"
      },
      "source": [
        "### Tensor operations and gradients\n",
        "We can combine tensors with the usual arithmetic operations. Let's look an example:"
      ]
    },
    {
      "cell_type": "markdown",
      "metadata": {
        "id": "yfSvMR4ZEmwU"
      },
      "source": [
        "#### Constant vs Variables\n",
        "In tf.constant, the value cannot be changed after being initialized. i.e. it is immutable\n",
        "However, if we want to assign or change values at a later stage, we need to declare using **`tf.Variable`**"
      ]
    },
    {
      "cell_type": "code",
      "execution_count": null,
      "metadata": {
        "id": "PVYqOLVMEmwU",
        "outputId": "5a9e17cd-2885-43b4-ddf1-bfcf3a5eda79"
      },
      "outputs": [
        {
          "data": {
            "text/plain": [
              "(<tf.Tensor: shape=(), dtype=float32, numpy=3.0>,\n",
              " <tf.Variable 'Variable:0' shape=() dtype=float32, numpy=4.0>,\n",
              " <tf.Variable 'Variable:0' shape=() dtype=float32, numpy=5.0>)"
            ]
          },
          "execution_count": 14,
          "metadata": {},
          "output_type": "execute_result"
        }
      ],
      "source": [
        "x = tf.constant(3.)\n",
        "w = tf.Variable(4.)\n",
        "b = tf.Variable(5.)\n",
        "x, w, b"
      ]
    },
    {
      "cell_type": "markdown",
      "metadata": {
        "id": "mUpHVCreEmwU"
      },
      "source": [
        "Gradient calculation works differently in tensorflow than torch,\n",
        "\n",
        "In PyTorch, gradients are kept within the variables themselves like `x.grad`, which could be calculated by using `.backward()` method. Refer the [pytorch notebook](https://jovian.ml/aakashns/01-pytorch-basics/v/18#C19)\n",
        "\n",
        "In tensorflow, tf.GradientTape is used to record the operations for automatic differentiation.\n",
        "In the code below, we perform the operation within the 'scope' of the gradienttape and then view the gradients by calling `tape.gradient(A,B)` to find `dA/dB`"
      ]
    },
    {
      "cell_type": "code",
      "execution_count": null,
      "metadata": {
        "id": "-QIiiuYoEmwU",
        "outputId": "3b29de4f-58b1-4f5a-99ae-3b643958322e"
      },
      "outputs": [
        {
          "name": "stdout",
          "output_type": "stream",
          "text": [
            "None\n",
            "tf.Tensor(3.0, shape=(), dtype=float32)\n",
            "tf.Tensor(1.0, shape=(), dtype=float32)\n"
          ]
        }
      ],
      "source": [
        "with tf.GradientTape(persistent=True) as tape:\n",
        "    y = w * x + b\n",
        "print(tape.gradient(y, x))\n",
        "print(tape.gradient(y, w))\n",
        "print(tape.gradient(y, b))"
      ]
    },
    {
      "cell_type": "markdown",
      "metadata": {
        "id": "mQOzGnR9EmwU"
      },
      "source": [
        "Because `x` was defined as a constant here, `dy/dx` is not computable.\n",
        "As expected, dy/dw has the same value as x i.e. 3, and dy/db has the value 1. Gradient is simply another term for derivative."
      ]
    },
    {
      "cell_type": "markdown",
      "metadata": {
        "id": "2DaWQH64EmwU"
      },
      "source": [
        "### Interoperability with Numpy\n",
        "[Numpy](http://www.numpy.org/) is a popular open source library used for mathematical and scientific computing in Python. It enables efficient operations on large multi-dimensional arrays, and has a large ecosystem of supporting libraries:\n",
        "\n",
        "- [Matplotlib](https://matplotlib.org/) for plotting and visualization\n",
        "- [OpenCV](https://opencv.org/) for image and video processing\n",
        "- [Pandas](https://pandas.pydata.org/) for file I/O and data analysis\n",
        "\n",
        "Instead of reinventing the wheel, Tensorflow also interoperates really well with Numpy to leverage its existing ecosystem of tools and libraries."
      ]
    },
    {
      "cell_type": "markdown",
      "metadata": {
        "id": "ClDY7B7jEmwU"
      },
      "source": [
        "Here's how we create an array in Numpy:"
      ]
    },
    {
      "cell_type": "code",
      "execution_count": null,
      "metadata": {
        "id": "Zr3OH_dlEmwU",
        "outputId": "54d4d150-dca2-4987-c35d-e7bbb6611849"
      },
      "outputs": [
        {
          "data": {
            "text/plain": [
              "array([[1., 2.],\n",
              "       [3., 4.]])"
            ]
          },
          "execution_count": 16,
          "metadata": {},
          "output_type": "execute_result"
        }
      ],
      "source": [
        "import numpy as np\n",
        "\n",
        "x = np.array([[1, 2], [3, 4.]])\n",
        "x"
      ]
    },
    {
      "cell_type": "markdown",
      "metadata": {
        "id": "GPSt1RdGEmwV"
      },
      "source": [
        "We can convert a Numpy array to a Tensorflow tensor by calling `tf.convert_to_tensor`."
      ]
    },
    {
      "cell_type": "code",
      "execution_count": null,
      "metadata": {
        "id": "6ed7JPcKEmwV",
        "outputId": "184c8c95-1f0a-4b50-d4b2-8827aba384d5"
      },
      "outputs": [
        {
          "data": {
            "text/plain": [
              "<tf.Tensor: shape=(2, 2), dtype=float64, numpy=\n",
              "array([[1., 2.],\n",
              "       [3., 4.]])>"
            ]
          },
          "execution_count": 17,
          "metadata": {},
          "output_type": "execute_result"
        }
      ],
      "source": [
        "y = tf.convert_to_tensor(x)\n",
        "y"
      ]
    },
    {
      "cell_type": "markdown",
      "metadata": {
        "id": "OHF0DK19EmwV"
      },
      "source": [
        "Conversion is also handled implicitly by tf while declaring new variables"
      ]
    },
    {
      "cell_type": "code",
      "execution_count": null,
      "metadata": {
        "id": "MRADN2A9EmwV",
        "outputId": "959e6ed3-4609-4055-e078-3296fd511d76"
      },
      "outputs": [
        {
          "data": {
            "text/plain": [
              "<tf.Tensor: shape=(2, 2), dtype=float64, numpy=\n",
              "array([[1., 2.],\n",
              "       [3., 4.]])>"
            ]
          },
          "execution_count": 18,
          "metadata": {},
          "output_type": "execute_result"
        }
      ],
      "source": [
        "y = tf.constant(x)\n",
        "y"
      ]
    },
    {
      "cell_type": "markdown",
      "metadata": {
        "id": "3P-zzoNqEmwV"
      },
      "source": [
        "Let's verify that the numpy array and tf tensor have similar data types."
      ]
    },
    {
      "cell_type": "code",
      "execution_count": null,
      "metadata": {
        "id": "7hK6LFaxEmwV",
        "outputId": "eb1d0ae1-8afb-47e4-d94c-766a6e782d2e"
      },
      "outputs": [
        {
          "data": {
            "text/plain": [
              "(dtype('float64'), tf.float64)"
            ]
          },
          "execution_count": 19,
          "metadata": {},
          "output_type": "execute_result"
        }
      ],
      "source": [
        "x.dtype, y.dtype"
      ]
    },
    {
      "cell_type": "markdown",
      "metadata": {
        "id": "bFwGXe5WEmwV"
      },
      "source": [
        "We can convert a tf tensor to a Numpy array using the .numpy method of a tensor."
      ]
    },
    {
      "cell_type": "code",
      "execution_count": null,
      "metadata": {
        "id": "_YrjF7y8EmwV",
        "outputId": "b3201aaa-eecf-46ce-9d4e-0f9cc15eca88"
      },
      "outputs": [
        {
          "data": {
            "text/plain": [
              "array([[1., 2.],\n",
              "       [3., 4.]])"
            ]
          },
          "execution_count": 20,
          "metadata": {},
          "output_type": "execute_result"
        }
      ],
      "source": [
        "z = y.numpy()\n",
        "z"
      ]
    },
    {
      "cell_type": "markdown",
      "metadata": {
        "id": "FGvSM9_WEmwY"
      },
      "source": [
        "The interoperability between Tensorflow and Numpy is really important because most datasets you'll work with will likely be read and preprocessed as Numpy arrays.\n",
        "\n"
      ]
    },
    {
      "cell_type": "markdown",
      "metadata": {
        "id": "wOFAIYCqEmwY"
      },
      "source": [
        "### Commit and upload the notebook\n",
        "As a final step, we can save and commit out work using the jovian library."
      ]
    },
    {
      "cell_type": "code",
      "execution_count": null,
      "metadata": {
        "id": "yWJKS8a0EmwY"
      },
      "outputs": [],
      "source": [
        "import jovian"
      ]
    },
    {
      "cell_type": "code",
      "execution_count": null,
      "metadata": {
        "id": "mZwH8LTeEmwY",
        "outputId": "4acad329-f607-44c6-f379-77faafe5f6e5"
      },
      "outputs": [
        {
          "data": {
            "application/javascript": [
              "window.require && require([\"base/js/namespace\"],function(Jupyter){Jupyter.notebook.save_checkpoint()})"
            ],
            "text/plain": [
              "<IPython.core.display.Javascript object>"
            ]
          },
          "metadata": {},
          "output_type": "display_data"
        },
        {
          "name": "stdout",
          "output_type": "stream",
          "text": [
            "[jovian] Attempting to save notebook..\u001b[0m\n"
          ]
        }
      ],
      "source": [
        "jovian.commit(filename=\"01-tensorflow-basics\", environment=None)"
      ]
    },
    {
      "cell_type": "code",
      "execution_count": null,
      "metadata": {
        "id": "_dzsS9j0EmwY"
      },
      "outputs": [],
      "source": []
    }
  ],
  "metadata": {
    "kernelspec": {
      "display_name": "Python 3",
      "language": "python",
      "name": "python3"
    },
    "language_info": {
      "codemirror_mode": {
        "name": "ipython",
        "version": 3
      },
      "file_extension": ".py",
      "mimetype": "text/x-python",
      "name": "python",
      "nbconvert_exporter": "python",
      "pygments_lexer": "ipython3",
      "version": "3.6.9"
    },
    "colab": {
      "provenance": [],
      "include_colab_link": true
    }
  },
  "nbformat": 4,
  "nbformat_minor": 0
}